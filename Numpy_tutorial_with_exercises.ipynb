{
 "cells": [
  {
   "cell_type": "markdown",
   "id": "08ec3470",
   "metadata": {},
   "source": [
    "**Why numpy?**"
   ]
  },
  {
   "cell_type": "markdown",
   "id": "b35829cf",
   "metadata": {},
   "source": [
    "There are three main reasons for using numpy:\n",
    "\n",
    "* Memory space: numpy arrays consume less space in memory.\n",
    "\n",
    "* Runtime: If we compare with lists, it is much faster.\n",
    "\n",
    "* Functionality: By using numpy, we are able to make vector operations with less coding. It is more effective to use than lists."
   ]
  },
  {
   "cell_type": "code",
   "execution_count": 1,
   "id": "6b402850",
   "metadata": {},
   "outputs": [],
   "source": [
    "import numpy as np"
   ]
  },
  {
   "cell_type": "code",
   "execution_count": 2,
   "id": "20b563c1",
   "metadata": {},
   "outputs": [
    {
     "name": "stdout",
     "output_type": "stream",
     "text": [
      "(array([0, 1, 1, 2, 2, 2, 3, 3, 3, 3]), array([0, 0, 1, 0, 1, 2, 0, 1, 2, 3]))\n"
     ]
    }
   ],
   "source": [
    "il1 = np.tril_indices(4)\n",
    "print(il1)"
   ]
  },
  {
   "cell_type": "markdown",
   "id": "9961b02e",
   "metadata": {},
   "source": [
    "**array**"
   ]
  },
  {
   "cell_type": "code",
   "execution_count": 3,
   "id": "dc18d28a",
   "metadata": {},
   "outputs": [
    {
     "name": "stdout",
     "output_type": "stream",
     "text": [
      "[10, 8, 27, 9] <class 'list'>\n"
     ]
    }
   ],
   "source": [
    "l=[10, 8, 27, 9]\n",
    "print(l, type(l))"
   ]
  },
  {
   "cell_type": "code",
   "execution_count": 4,
   "id": "9c94c699",
   "metadata": {},
   "outputs": [
    {
     "name": "stdout",
     "output_type": "stream",
     "text": [
      "[10  8 27  9]\n",
      "<class 'numpy.ndarray'>\n"
     ]
    }
   ],
   "source": [
    "arr=np.array(l)\n",
    "print(arr)\n",
    "print(type(arr))"
   ]
  },
  {
   "cell_type": "code",
   "execution_count": 5,
   "id": "d0061356",
   "metadata": {},
   "outputs": [
    {
     "name": "stdout",
     "output_type": "stream",
     "text": [
      "[[27  9]\n",
      " [10  8]]\n"
     ]
    }
   ],
   "source": [
    "l1=[[27, 9], [10, 8]]\n",
    "arr1=np.array(l1)\n",
    "\n",
    "print(arr1)"
   ]
  },
  {
   "cell_type": "code",
   "execution_count": 6,
   "id": "48e3cd58",
   "metadata": {},
   "outputs": [
    {
     "name": "stdout",
     "output_type": "stream",
     "text": [
      "(2, 2)\n"
     ]
    }
   ],
   "source": [
    "print(arr1.shape)"
   ]
  },
  {
   "cell_type": "code",
   "execution_count": 7,
   "id": "e8d51329",
   "metadata": {},
   "outputs": [
    {
     "name": "stdout",
     "output_type": "stream",
     "text": [
      "4\n"
     ]
    }
   ],
   "source": [
    "print(arr1.size)"
   ]
  },
  {
   "cell_type": "code",
   "execution_count": 8,
   "id": "b9160d4f",
   "metadata": {},
   "outputs": [
    {
     "name": "stdout",
     "output_type": "stream",
     "text": [
      "int32\n"
     ]
    }
   ],
   "source": [
    "print(arr.dtype)"
   ]
  },
  {
   "cell_type": "code",
   "execution_count": 9,
   "id": "6852f0f5",
   "metadata": {},
   "outputs": [
    {
     "name": "stdout",
     "output_type": "stream",
     "text": [
      "[1 2 3 4 5 6 7 8 9]\n"
     ]
    }
   ],
   "source": [
    "data=np.arange(1, 10)\n",
    "\n",
    "print(data)"
   ]
  },
  {
   "cell_type": "code",
   "execution_count": 10,
   "id": "9f09afd4",
   "metadata": {},
   "outputs": [
    {
     "name": "stdout",
     "output_type": "stream",
     "text": [
      "[1 3 5 7 9]\n"
     ]
    }
   ],
   "source": [
    "data=np.arange(1, 10, 2)\n",
    "\n",
    "print(data)"
   ]
  },
  {
   "cell_type": "markdown",
   "id": "3cd16480",
   "metadata": {},
   "source": [
    "**random**"
   ]
  },
  {
   "cell_type": "code",
   "execution_count": 11,
   "id": "30c17241",
   "metadata": {},
   "outputs": [
    {
     "name": "stdout",
     "output_type": "stream",
     "text": [
      "[0.5847269]\n"
     ]
    }
   ],
   "source": [
    "#uniform\n",
    "print(np.random.rand(1))"
   ]
  },
  {
   "cell_type": "code",
   "execution_count": 12,
   "id": "04ac19fa",
   "metadata": {},
   "outputs": [
    {
     "name": "stdout",
     "output_type": "stream",
     "text": [
      "[0.47336004 0.3159331  0.67131087 0.29505061 0.34282119 0.53952144\n",
      " 0.95994203 0.42903855 0.71973123 0.36969955]\n"
     ]
    }
   ],
   "source": [
    "print(np.random.rand(10))"
   ]
  },
  {
   "cell_type": "code",
   "execution_count": 13,
   "id": "10c52c45",
   "metadata": {},
   "outputs": [
    {
     "name": "stdout",
     "output_type": "stream",
     "text": [
      "[ 0.24983718  0.18532479 -0.58090119]\n"
     ]
    }
   ],
   "source": [
    "#mean=0, std=1\n",
    "print(np.random.randn(3))"
   ]
  },
  {
   "cell_type": "code",
   "execution_count": 14,
   "id": "2cb01579",
   "metadata": {},
   "outputs": [
    {
     "name": "stdout",
     "output_type": "stream",
     "text": [
      "[ 3.22872839  1.29729481 -1.18389957  1.71821498  3.61411769]\n"
     ]
    }
   ],
   "source": [
    "#mean=2, std=2\n",
    "print(np.random.normal(2, 2, 5))"
   ]
  },
  {
   "cell_type": "code",
   "execution_count": 15,
   "id": "23095179",
   "metadata": {},
   "outputs": [
    {
     "name": "stdout",
     "output_type": "stream",
     "text": [
      "6\n"
     ]
    }
   ],
   "source": [
    "print(np.random.randint(1, 10))"
   ]
  },
  {
   "cell_type": "code",
   "execution_count": 16,
   "id": "011ee887",
   "metadata": {},
   "outputs": [
    {
     "name": "stdout",
     "output_type": "stream",
     "text": [
      "[1 8 4 2 6 1 2 3 1 9 4 7 7 5 6 9 7 1 8 3]\n"
     ]
    }
   ],
   "source": [
    "print(np.random.randint(1, 10, 20))"
   ]
  },
  {
   "cell_type": "code",
   "execution_count": 17,
   "id": "48a1fe43",
   "metadata": {},
   "outputs": [],
   "source": [
    "#np.seed(54)"
   ]
  },
  {
   "cell_type": "code",
   "execution_count": 18,
   "id": "a18b56b5",
   "metadata": {},
   "outputs": [
    {
     "name": "stdout",
     "output_type": "stream",
     "text": [
      "1\n"
     ]
    }
   ],
   "source": [
    "print(np.random.randint(1, 10))"
   ]
  },
  {
   "cell_type": "code",
   "execution_count": 19,
   "id": "e6310c78",
   "metadata": {},
   "outputs": [
    {
     "name": "stdout",
     "output_type": "stream",
     "text": [
      "[ 0  1  2  3  4  5  6  7  8  9 10 11 12 13 14 15 16 17 18 19 20 21 22 23\n",
      " 24]\n"
     ]
    }
   ],
   "source": [
    "data=np.arange(25)\n",
    "print(data)"
   ]
  },
  {
   "cell_type": "code",
   "execution_count": 20,
   "id": "27dab1c4",
   "metadata": {},
   "outputs": [
    {
     "data": {
      "text/plain": [
       "(25,)"
      ]
     },
     "execution_count": 20,
     "metadata": {},
     "output_type": "execute_result"
    }
   ],
   "source": [
    "data.shape"
   ]
  },
  {
   "cell_type": "code",
   "execution_count": 21,
   "id": "0594c513",
   "metadata": {},
   "outputs": [
    {
     "name": "stdout",
     "output_type": "stream",
     "text": [
      "[[ 0  1  2  3  4]\n",
      " [ 5  6  7  8  9]\n",
      " [10 11 12 13 14]\n",
      " [15 16 17 18 19]\n",
      " [20 21 22 23 24]]\n"
     ]
    }
   ],
   "source": [
    "print(data.reshape(5, 5))"
   ]
  },
  {
   "cell_type": "code",
   "execution_count": 22,
   "id": "dec289b9",
   "metadata": {},
   "outputs": [
    {
     "name": "stdout",
     "output_type": "stream",
     "text": [
      "[[ 0  1  2  3  4]\n",
      " [ 5  6  7  8  9]\n",
      " [10 11 12 13 14]\n",
      " [15 16 17 18 19]\n",
      " [20 21 22 23 24]]\n"
     ]
    }
   ],
   "source": [
    "print(data.reshape(5, -1))"
   ]
  },
  {
   "cell_type": "markdown",
   "id": "7a499a58",
   "metadata": {},
   "source": [
    "**Indexing and selection**"
   ]
  },
  {
   "cell_type": "code",
   "execution_count": 23,
   "id": "ea16caaa",
   "metadata": {},
   "outputs": [
    {
     "name": "stdout",
     "output_type": "stream",
     "text": [
      "[[  27    9   98]\n",
      " [  10    8   98]\n",
      " [  13    6   93]\n",
      " [1008 2709 1998]]\n"
     ]
    }
   ],
   "source": [
    "data=np.array([[27, 9, 98], [10, 8, 98], [13, 6, 93], [1008, 2709, 1998]])\n",
    "print(data)"
   ]
  },
  {
   "cell_type": "code",
   "execution_count": 24,
   "id": "83204746",
   "metadata": {},
   "outputs": [
    {
     "data": {
      "text/plain": [
       "array([[  27,    9,   98],\n",
       "       [  10,    8,   98],\n",
       "       [  13,    6,   93],\n",
       "       [1008, 2709, 1998]])"
      ]
     },
     "execution_count": 24,
     "metadata": {},
     "output_type": "execute_result"
    }
   ],
   "source": [
    "data[:, :]"
   ]
  },
  {
   "cell_type": "code",
   "execution_count": 25,
   "id": "0d44ae4b",
   "metadata": {},
   "outputs": [
    {
     "data": {
      "text/plain": [
       "array([  27,   10,   13, 1008])"
      ]
     },
     "execution_count": 25,
     "metadata": {},
     "output_type": "execute_result"
    }
   ],
   "source": [
    "data[:, 0]"
   ]
  },
  {
   "cell_type": "code",
   "execution_count": 26,
   "id": "ed72aa14",
   "metadata": {},
   "outputs": [
    {
     "data": {
      "text/plain": [
       "array([[27,  9, 98]])"
      ]
     },
     "execution_count": 26,
     "metadata": {},
     "output_type": "execute_result"
    }
   ],
   "source": [
    "data[:1, :]"
   ]
  },
  {
   "cell_type": "code",
   "execution_count": 27,
   "id": "4353c27a",
   "metadata": {},
   "outputs": [
    {
     "data": {
      "text/plain": [
       "array([[10, 98]])"
      ]
     },
     "execution_count": 27,
     "metadata": {},
     "output_type": "execute_result"
    }
   ],
   "source": [
    "data[1:2, [0, 2]]"
   ]
  },
  {
   "cell_type": "code",
   "execution_count": 28,
   "id": "fdb6e062",
   "metadata": {},
   "outputs": [
    {
     "data": {
      "text/plain": [
       "array([[ 9, 98],\n",
       "       [ 8, 98]])"
      ]
     },
     "execution_count": 28,
     "metadata": {},
     "output_type": "execute_result"
    }
   ],
   "source": [
    "data[:2, 1:]"
   ]
  },
  {
   "cell_type": "code",
   "execution_count": 29,
   "id": "7ca8cbc8",
   "metadata": {},
   "outputs": [
    {
     "data": {
      "text/plain": [
       "array([[ True, False,  True],\n",
       "       [False, False,  True],\n",
       "       [False, False,  True],\n",
       "       [ True,  True,  True]])"
      ]
     },
     "execution_count": 29,
     "metadata": {},
     "output_type": "execute_result"
    }
   ],
   "source": [
    "data>20"
   ]
  },
  {
   "cell_type": "code",
   "execution_count": 30,
   "id": "2c7f2d25",
   "metadata": {},
   "outputs": [
    {
     "data": {
      "text/plain": [
       "array([  27,   98,   98,   93, 1008, 2709, 1998])"
      ]
     },
     "execution_count": 30,
     "metadata": {},
     "output_type": "execute_result"
    }
   ],
   "source": [
    "data[data>20]"
   ]
  },
  {
   "cell_type": "markdown",
   "id": "00e89ca6",
   "metadata": {},
   "source": [
    "**copy**"
   ]
  },
  {
   "cell_type": "code",
   "execution_count": 31,
   "id": "06c96386",
   "metadata": {},
   "outputs": [
    {
     "name": "stdout",
     "output_type": "stream",
     "text": [
      "[ 1 23 13 13  1 10  4 18  3  4 23 24  4 16  8]\n"
     ]
    }
   ],
   "source": [
    "arr1=np.random.randint(0, 25, 15)\n",
    "print(arr1)"
   ]
  },
  {
   "cell_type": "code",
   "execution_count": 32,
   "id": "22caa700",
   "metadata": {},
   "outputs": [
    {
     "data": {
      "text/plain": [
       "array([ 1, 23, 13, 13,  1, 10])"
      ]
     },
     "execution_count": 32,
     "metadata": {},
     "output_type": "execute_result"
    }
   ],
   "source": [
    "arr1[:6]"
   ]
  },
  {
   "cell_type": "code",
   "execution_count": 33,
   "id": "c3402e5f",
   "metadata": {},
   "outputs": [
    {
     "name": "stdout",
     "output_type": "stream",
     "text": [
      "[ 1 23 13 13  1 10]\n"
     ]
    }
   ],
   "source": [
    "new=arr1[:6]\n",
    "print(new)"
   ]
  },
  {
   "cell_type": "code",
   "execution_count": 34,
   "id": "1746fdf3",
   "metadata": {},
   "outputs": [
    {
     "name": "stdout",
     "output_type": "stream",
     "text": [
      "[10 10 10 10 10 10]\n"
     ]
    }
   ],
   "source": [
    "new[:]=10\n",
    "print(new)"
   ]
  },
  {
   "cell_type": "code",
   "execution_count": 35,
   "id": "6762c966",
   "metadata": {},
   "outputs": [
    {
     "name": "stdout",
     "output_type": "stream",
     "text": [
      "[10 10 10 10 10 10]\n",
      "[10 10 10 10 10 10  4 18  3  4 23 24  4 16  8]\n"
     ]
    }
   ],
   "source": [
    "print(new)\n",
    "print(arr1)"
   ]
  },
  {
   "cell_type": "code",
   "execution_count": 36,
   "id": "16d0a5ae",
   "metadata": {},
   "outputs": [
    {
     "name": "stdout",
     "output_type": "stream",
     "text": [
      "[22  3  7  9 12 22  7 18  5  2  6 22 16 20  1]\n"
     ]
    }
   ],
   "source": [
    "arr1=np.random.randint(0, 25, 15)\n",
    "print(arr1)"
   ]
  },
  {
   "cell_type": "code",
   "execution_count": 37,
   "id": "c622b24f",
   "metadata": {},
   "outputs": [
    {
     "name": "stdout",
     "output_type": "stream",
     "text": [
      "[22  3  7  9 12 22]\n"
     ]
    }
   ],
   "source": [
    "new_copy=arr1[:6].copy()\n",
    "print(new_copy)"
   ]
  },
  {
   "cell_type": "code",
   "execution_count": 38,
   "id": "5ab87965",
   "metadata": {},
   "outputs": [
    {
     "name": "stdout",
     "output_type": "stream",
     "text": [
      "[10 10 10 10 10 10]\n"
     ]
    }
   ],
   "source": [
    "new_copy[:]=10\n",
    "print(new_copy)"
   ]
  },
  {
   "cell_type": "code",
   "execution_count": 39,
   "id": "e8a7e70a",
   "metadata": {},
   "outputs": [
    {
     "name": "stdout",
     "output_type": "stream",
     "text": [
      "[10 10 10 10 10 10]\n",
      "[22  3  7  9 12 22  7 18  5  2  6 22 16 20  1]\n"
     ]
    }
   ],
   "source": [
    "print(new_copy)\n",
    "print(arr1)"
   ]
  },
  {
   "cell_type": "markdown",
   "id": "c0b8abc2",
   "metadata": {},
   "source": [
    "**Math operations**"
   ]
  },
  {
   "cell_type": "code",
   "execution_count": 40,
   "id": "5857d30a",
   "metadata": {},
   "outputs": [
    {
     "name": "stdout",
     "output_type": "stream",
     "text": [
      "[10  8 27  9]\n"
     ]
    }
   ],
   "source": [
    "arr=np.array([10, 8, 27, 9])\n",
    "print(arr)"
   ]
  },
  {
   "cell_type": "code",
   "execution_count": 41,
   "id": "a340a58c",
   "metadata": {},
   "outputs": [
    {
     "data": {
      "text/plain": [
       "array([20, 18, 37, 19])"
      ]
     },
     "execution_count": 41,
     "metadata": {},
     "output_type": "execute_result"
    }
   ],
   "source": [
    "arr+10"
   ]
  },
  {
   "cell_type": "code",
   "execution_count": 42,
   "id": "5c8eb57a",
   "metadata": {},
   "outputs": [
    {
     "data": {
      "text/plain": [
       "array([ 2,  0, 19,  1])"
      ]
     },
     "execution_count": 42,
     "metadata": {},
     "output_type": "execute_result"
    }
   ],
   "source": [
    "arr-8"
   ]
  },
  {
   "cell_type": "code",
   "execution_count": 43,
   "id": "629fad2b",
   "metadata": {},
   "outputs": [
    {
     "data": {
      "text/plain": [
       "array([1. , 0.8, 2.7, 0.9])"
      ]
     },
     "execution_count": 43,
     "metadata": {},
     "output_type": "execute_result"
    }
   ],
   "source": [
    "arr/10"
   ]
  },
  {
   "cell_type": "code",
   "execution_count": 44,
   "id": "cf0f96ab",
   "metadata": {},
   "outputs": [
    {
     "data": {
      "text/plain": [
       "array([20, 16, 54, 18])"
      ]
     },
     "execution_count": 44,
     "metadata": {},
     "output_type": "execute_result"
    }
   ],
   "source": [
    "arr+arr"
   ]
  },
  {
   "cell_type": "code",
   "execution_count": 45,
   "id": "96461f86",
   "metadata": {},
   "outputs": [
    {
     "data": {
      "text/plain": [
       "array([0, 0, 0, 0])"
      ]
     },
     "execution_count": 45,
     "metadata": {},
     "output_type": "execute_result"
    }
   ],
   "source": [
    "arr-arr"
   ]
  },
  {
   "cell_type": "code",
   "execution_count": 46,
   "id": "5fa3e069",
   "metadata": {},
   "outputs": [
    {
     "data": {
      "text/plain": [
       "array([1., 1., 1., 1.])"
      ]
     },
     "execution_count": 46,
     "metadata": {},
     "output_type": "execute_result"
    }
   ],
   "source": [
    "arr/arr"
   ]
  },
  {
   "cell_type": "code",
   "execution_count": 47,
   "id": "7aedf037",
   "metadata": {},
   "outputs": [
    {
     "data": {
      "text/plain": [
       "array([0.1       , 0.125     , 0.03703704, 0.11111111])"
      ]
     },
     "execution_count": 47,
     "metadata": {},
     "output_type": "execute_result"
    }
   ],
   "source": [
    "1/arr"
   ]
  },
  {
   "cell_type": "code",
   "execution_count": 48,
   "id": "163ade79",
   "metadata": {},
   "outputs": [
    {
     "data": {
      "text/plain": [
       "array([3.16227766, 2.82842712, 5.19615242, 3.        ])"
      ]
     },
     "execution_count": 48,
     "metadata": {},
     "output_type": "execute_result"
    }
   ],
   "source": [
    "np.sqrt(arr)"
   ]
  },
  {
   "cell_type": "code",
   "execution_count": 49,
   "id": "33962f3b",
   "metadata": {},
   "outputs": [
    {
     "data": {
      "text/plain": [
       "array([-0.54402111,  0.98935825,  0.95637593,  0.41211849])"
      ]
     },
     "execution_count": 49,
     "metadata": {},
     "output_type": "execute_result"
    }
   ],
   "source": [
    "np.sin(arr)"
   ]
  },
  {
   "cell_type": "code",
   "execution_count": 50,
   "id": "7bedad89",
   "metadata": {},
   "outputs": [
    {
     "data": {
      "text/plain": [
       "array([2.30258509, 2.07944154, 3.29583687, 2.19722458])"
      ]
     },
     "execution_count": 50,
     "metadata": {},
     "output_type": "execute_result"
    }
   ],
   "source": [
    "np.log(arr)"
   ]
  },
  {
   "cell_type": "code",
   "execution_count": 51,
   "id": "61a4a2dd",
   "metadata": {},
   "outputs": [
    {
     "name": "stdout",
     "output_type": "stream",
     "text": [
      "[10  8 27  9]\n"
     ]
    }
   ],
   "source": [
    "print(arr)"
   ]
  },
  {
   "cell_type": "code",
   "execution_count": 52,
   "id": "e4c1ff38",
   "metadata": {},
   "outputs": [
    {
     "name": "stdout",
     "output_type": "stream",
     "text": [
      "27\n"
     ]
    }
   ],
   "source": [
    "print(arr.max())"
   ]
  },
  {
   "cell_type": "code",
   "execution_count": 53,
   "id": "84fc7a4d",
   "metadata": {},
   "outputs": [
    {
     "name": "stdout",
     "output_type": "stream",
     "text": [
      "2\n"
     ]
    }
   ],
   "source": [
    "print(arr.argmax())"
   ]
  },
  {
   "cell_type": "code",
   "execution_count": 54,
   "id": "749abd65",
   "metadata": {},
   "outputs": [
    {
     "name": "stdout",
     "output_type": "stream",
     "text": [
      "8\n"
     ]
    }
   ],
   "source": [
    "print(arr.min())"
   ]
  },
  {
   "cell_type": "code",
   "execution_count": 55,
   "id": "7f85dd7d",
   "metadata": {},
   "outputs": [
    {
     "name": "stdout",
     "output_type": "stream",
     "text": [
      "1\n"
     ]
    }
   ],
   "source": [
    "print(arr.argmin())"
   ]
  },
  {
   "cell_type": "code",
   "execution_count": 56,
   "id": "50a9318b",
   "metadata": {},
   "outputs": [
    {
     "name": "stdout",
     "output_type": "stream",
     "text": [
      "[[  27    9   98]\n",
      " [  10    8   98]\n",
      " [  13    6   93]\n",
      " [1008 2709 1998]]\n"
     ]
    }
   ],
   "source": [
    "print(data)"
   ]
  },
  {
   "cell_type": "code",
   "execution_count": 57,
   "id": "81e16f0c",
   "metadata": {},
   "outputs": [
    {
     "name": "stdout",
     "output_type": "stream",
     "text": [
      "6077\n"
     ]
    }
   ],
   "source": [
    "print(data.sum())"
   ]
  },
  {
   "cell_type": "code",
   "execution_count": 58,
   "id": "7944aa58",
   "metadata": {},
   "outputs": [
    {
     "name": "stdout",
     "output_type": "stream",
     "text": [
      "506.4166666666667\n"
     ]
    }
   ],
   "source": [
    "print(data.mean())"
   ]
  },
  {
   "cell_type": "code",
   "execution_count": 59,
   "id": "74fd57b0",
   "metadata": {},
   "outputs": [
    {
     "name": "stdout",
     "output_type": "stream",
     "text": [
      "774857.5763888889\n"
     ]
    }
   ],
   "source": [
    "print(data.var())"
   ]
  },
  {
   "cell_type": "code",
   "execution_count": 60,
   "id": "11d99959",
   "metadata": {},
   "outputs": [
    {
     "name": "stdout",
     "output_type": "stream",
     "text": [
      "880.2599481908107\n"
     ]
    }
   ],
   "source": [
    "print(data.std())"
   ]
  },
  {
   "cell_type": "code",
   "execution_count": 61,
   "id": "a8876f17",
   "metadata": {},
   "outputs": [
    {
     "name": "stdout",
     "output_type": "stream",
     "text": [
      "[1058 2732 2287]\n"
     ]
    }
   ],
   "source": [
    "#column\n",
    "print(data.sum(axis=0))"
   ]
  },
  {
   "cell_type": "code",
   "execution_count": 62,
   "id": "c8aad2d9",
   "metadata": {},
   "outputs": [
    {
     "name": "stdout",
     "output_type": "stream",
     "text": [
      "[ 134  116  112 5715]\n"
     ]
    }
   ],
   "source": [
    "#row\n",
    "print(data.sum(axis=1))"
   ]
  },
  {
   "cell_type": "code",
   "execution_count": 63,
   "id": "17028d8b",
   "metadata": {},
   "outputs": [
    {
     "name": "stdout",
     "output_type": "stream",
     "text": [
      "[[1 2 3]\n",
      " [4 5 6]\n",
      " [7 8 9]]\n"
     ]
    }
   ],
   "source": [
    "M=np.array([[1, 2, 3], [4, 5, 6], [7, 8, 9]])\n",
    "print(M)"
   ]
  },
  {
   "cell_type": "markdown",
   "id": "1bf93d76",
   "metadata": {},
   "source": [
    "* Two by matrix"
   ]
  },
  {
   "cell_type": "code",
   "execution_count": 64,
   "id": "a7a2407a",
   "metadata": {
    "scrolled": true
   },
   "outputs": [
    {
     "name": "stdout",
     "output_type": "stream",
     "text": [
      "[[1 0]\n",
      " [2 1]]\n"
     ]
    }
   ],
   "source": [
    "T=np.random.randint(-2, 3, size=(2, 2))\n",
    "print(T)"
   ]
  },
  {
   "cell_type": "markdown",
   "id": "87baeb93",
   "metadata": {},
   "source": [
    "**Particular Matrices**"
   ]
  },
  {
   "cell_type": "markdown",
   "id": "01767194",
   "metadata": {},
   "source": [
    "* Identity matrix"
   ]
  },
  {
   "cell_type": "code",
   "execution_count": 65,
   "id": "369e6f6e",
   "metadata": {},
   "outputs": [
    {
     "name": "stdout",
     "output_type": "stream",
     "text": [
      "[[1. 0. 0. 0.]\n",
      " [0. 1. 0. 0.]\n",
      " [0. 0. 1. 0.]]\n"
     ]
    }
   ],
   "source": [
    "I=np.eye(3, 4)\n",
    "print(I)"
   ]
  },
  {
   "cell_type": "markdown",
   "id": "5d397f4c",
   "metadata": {},
   "source": [
    "* Zeros matrix"
   ]
  },
  {
   "cell_type": "code",
   "execution_count": 66,
   "id": "e6e9c61e",
   "metadata": {},
   "outputs": [
    {
     "name": "stdout",
     "output_type": "stream",
     "text": [
      "[[0. 0. 0.]\n",
      " [0. 0. 0.]\n",
      " [0. 0. 0.]]\n"
     ]
    }
   ],
   "source": [
    "Z=np.zeros((3, 3))\n",
    "print(Z)"
   ]
  },
  {
   "cell_type": "code",
   "execution_count": null,
   "id": "e9a96fa8",
   "metadata": {},
   "outputs": [],
   "source": []
  },
  {
   "cell_type": "markdown",
   "id": "e94562da",
   "metadata": {},
   "source": [
    "* Ones matrix"
   ]
  },
  {
   "cell_type": "code",
   "execution_count": 67,
   "id": "fbe6c4c4",
   "metadata": {},
   "outputs": [
    {
     "name": "stdout",
     "output_type": "stream",
     "text": [
      "[[1. 1. 1. 1.]\n",
      " [1. 1. 1. 1.]\n",
      " [1. 1. 1. 1.]]\n"
     ]
    }
   ],
   "source": [
    "O=np.ones((3, 4))\n",
    "print(O)"
   ]
  },
  {
   "cell_type": "markdown",
   "id": "0caabb34",
   "metadata": {},
   "source": [
    "* Diagonal matrix"
   ]
  },
  {
   "cell_type": "code",
   "execution_count": 68,
   "id": "9ac2d1ec",
   "metadata": {},
   "outputs": [
    {
     "name": "stdout",
     "output_type": "stream",
     "text": [
      "[[ 8  0  0]\n",
      " [ 0 10  0]\n",
      " [ 0  0 27]]\n"
     ]
    }
   ],
   "source": [
    "D=np.diag([8, 10, 27])\n",
    "print(D)"
   ]
  },
  {
   "cell_type": "code",
   "execution_count": 69,
   "id": "4b308618",
   "metadata": {},
   "outputs": [
    {
     "name": "stdout",
     "output_type": "stream",
     "text": [
      "[[1 2 3]\n",
      " [4 5 6]\n",
      " [7 8 9]]\n"
     ]
    }
   ],
   "source": [
    "print(M)"
   ]
  },
  {
   "cell_type": "code",
   "execution_count": 70,
   "id": "4f1fcad5",
   "metadata": {},
   "outputs": [
    {
     "name": "stdout",
     "output_type": "stream",
     "text": [
      "[1 5 9]\n"
     ]
    }
   ],
   "source": [
    "D=np.diag(M)\n",
    "print(D)"
   ]
  },
  {
   "cell_type": "markdown",
   "id": "85d7e8c2",
   "metadata": {},
   "source": [
    "**Multiplying Matrices**"
   ]
  },
  {
   "cell_type": "code",
   "execution_count": 71,
   "id": "f365a1d1",
   "metadata": {},
   "outputs": [
    {
     "name": "stdout",
     "output_type": "stream",
     "text": [
      "[-8. -6. -4. -2.  0.  2.  4.  6.  8.]\n"
     ]
    }
   ],
   "source": [
    "L=np.linspace(-8, 8, 9)\n",
    "print(L)"
   ]
  },
  {
   "cell_type": "code",
   "execution_count": 72,
   "id": "4bec924a",
   "metadata": {},
   "outputs": [
    {
     "name": "stdout",
     "output_type": "stream",
     "text": [
      "[[-8. -6. -4.]\n",
      " [-2.  0.  2.]\n",
      " [ 4.  6.  8.]]\n"
     ]
    }
   ],
   "source": [
    "M=L.reshape(3, 3)\n",
    "print(M)"
   ]
  },
  {
   "cell_type": "code",
   "execution_count": 73,
   "id": "d583925d",
   "metadata": {},
   "outputs": [
    {
     "name": "stdout",
     "output_type": "stream",
     "text": [
      "[[ 2 -6 -8]\n",
      " [-6  1 -2]\n",
      " [ 2 -7  6]]\n"
     ]
    }
   ],
   "source": [
    "N=np.random.randint(-8, 8, size=(3, 3))\n",
    "print(N)"
   ]
  },
  {
   "cell_type": "code",
   "execution_count": 74,
   "id": "6dd047cd",
   "metadata": {},
   "outputs": [
    {
     "data": {
      "text/plain": [
       "array([[ 12.,  70.,  52.],\n",
       "       [  0.,  -2.,  28.],\n",
       "       [-12., -74.,   4.]])"
      ]
     },
     "execution_count": 74,
     "metadata": {},
     "output_type": "execute_result"
    }
   ],
   "source": [
    "np.matmul(M, N)"
   ]
  },
  {
   "cell_type": "code",
   "execution_count": 75,
   "id": "4bcf5d48",
   "metadata": {},
   "outputs": [
    {
     "data": {
      "text/plain": [
       "array([[ 12.,  70.,  52.],\n",
       "       [  0.,  -2.,  28.],\n",
       "       [-12., -74.,   4.]])"
      ]
     },
     "execution_count": 75,
     "metadata": {},
     "output_type": "execute_result"
    }
   ],
   "source": [
    "M.dot(N)"
   ]
  },
  {
   "cell_type": "code",
   "execution_count": 76,
   "id": "331b75b5",
   "metadata": {},
   "outputs": [
    {
     "data": {
      "text/plain": [
       "array([[ 12.,  70.,  52.],\n",
       "       [  0.,  -2.,  28.],\n",
       "       [-12., -74.,   4.]])"
      ]
     },
     "execution_count": 76,
     "metadata": {},
     "output_type": "execute_result"
    }
   ],
   "source": [
    "M@N"
   ]
  },
  {
   "cell_type": "code",
   "execution_count": 77,
   "id": "a9fcdb13",
   "metadata": {},
   "outputs": [
    {
     "name": "stdout",
     "output_type": "stream",
     "text": [
      "[[1 2 3]\n",
      " [4 5 6]]\n"
     ]
    }
   ],
   "source": [
    "A=np.array([[1, 2, 3], [4, 5, 6]])\n",
    "print(A)"
   ]
  },
  {
   "cell_type": "code",
   "execution_count": 78,
   "id": "21f8fef3",
   "metadata": {},
   "outputs": [
    {
     "name": "stdout",
     "output_type": "stream",
     "text": [
      "[[ 7  2 -3]\n",
      " [ 0  1  6]]\n"
     ]
    }
   ],
   "source": [
    "B=np.array([[7, 2, -3], [0, 1, 6]])\n",
    "print(B)"
   ]
  },
  {
   "cell_type": "code",
   "execution_count": 79,
   "id": "f73b9a16",
   "metadata": {},
   "outputs": [
    {
     "data": {
      "text/plain": [
       "array([[ 2, 20],\n",
       "       [20, 41]])"
      ]
     },
     "execution_count": 79,
     "metadata": {},
     "output_type": "execute_result"
    }
   ],
   "source": [
    "#A.dot(B)\n",
    "A.dot(B.T)"
   ]
  },
  {
   "cell_type": "markdown",
   "id": "fd3b69b6",
   "metadata": {},
   "source": [
    "**Calculating Matrix Determinant**"
   ]
  },
  {
   "cell_type": "code",
   "execution_count": 80,
   "id": "2a691c99",
   "metadata": {},
   "outputs": [
    {
     "data": {
      "text/plain": [
       "0.0"
      ]
     },
     "execution_count": 80,
     "metadata": {},
     "output_type": "execute_result"
    }
   ],
   "source": [
    "np.linalg.det(M)"
   ]
  },
  {
   "cell_type": "code",
   "execution_count": 81,
   "id": "3c3e3536",
   "metadata": {},
   "outputs": [
    {
     "data": {
      "text/plain": [
       "-528.0"
      ]
     },
     "execution_count": 81,
     "metadata": {},
     "output_type": "execute_result"
    }
   ],
   "source": [
    "np.linalg.det(N)"
   ]
  },
  {
   "cell_type": "markdown",
   "id": "947f608e",
   "metadata": {},
   "source": [
    "**Perform More Operations with matrices**"
   ]
  },
  {
   "cell_type": "code",
   "execution_count": 82,
   "id": "1925e7cf",
   "metadata": {},
   "outputs": [
    {
     "data": {
      "text/plain": [
       "array([[ 0.01515152, -0.17424242, -0.03787879],\n",
       "       [-0.06060606, -0.0530303 , -0.09848485],\n",
       "       [-0.07575758, -0.00378788,  0.06439394]])"
      ]
     },
     "execution_count": 82,
     "metadata": {},
     "output_type": "execute_result"
    }
   ],
   "source": [
    "np.linalg.inv(N)"
   ]
  },
  {
   "cell_type": "code",
   "execution_count": 83,
   "id": "f48ee983",
   "metadata": {},
   "outputs": [
    {
     "data": {
      "text/plain": [
       "array([[ -6., -12., -12.],\n",
       "       [ -8.,   1.,   0.],\n",
       "       [  6.,  -1.,  14.]])"
      ]
     },
     "execution_count": 83,
     "metadata": {},
     "output_type": "execute_result"
    }
   ],
   "source": [
    "M+N"
   ]
  },
  {
   "cell_type": "code",
   "execution_count": 84,
   "id": "a750d554",
   "metadata": {},
   "outputs": [
    {
     "data": {
      "text/plain": [
       "array([[-10.,   0.,   4.],\n",
       "       [  4.,  -1.,   4.],\n",
       "       [  2.,  13.,   2.]])"
      ]
     },
     "execution_count": 84,
     "metadata": {},
     "output_type": "execute_result"
    }
   ],
   "source": [
    "M-N"
   ]
  },
  {
   "cell_type": "code",
   "execution_count": 85,
   "id": "48c7315e",
   "metadata": {},
   "outputs": [
    {
     "data": {
      "text/plain": [
       "array([[-16., -12.,  -8.],\n",
       "       [ -4.,   0.,   4.],\n",
       "       [  8.,  12.,  16.]])"
      ]
     },
     "execution_count": 85,
     "metadata": {},
     "output_type": "execute_result"
    }
   ],
   "source": [
    "2*M"
   ]
  },
  {
   "cell_type": "markdown",
   "id": "958c8313",
   "metadata": {},
   "source": [
    "**Given the following system of linear equation**"
   ]
  },
  {
   "cell_type": "markdown",
   "id": "f0854a7e",
   "metadata": {},
   "source": [
    "4*x+3*y+2*z=25            \n",
    "-2*x+2*y+3*z=-10                  \n",
    "3*x-5*y+2z=-4                  "
   ]
  },
  {
   "cell_type": "code",
   "execution_count": 86,
   "id": "0f24096d",
   "metadata": {},
   "outputs": [],
   "source": [
    "M=np.array([\n",
    "    [4, 3, 2],\n",
    "    [-2, 2, 3],\n",
    "    [3, -5, 2]\n",
    "])\n",
    "\n",
    "K=np.array([25, -10, -4])"
   ]
  },
  {
   "cell_type": "markdown",
   "id": "35d3275c",
   "metadata": {},
   "source": [
    "**Solve linear equation using inverse method**"
   ]
  },
  {
   "cell_type": "code",
   "execution_count": 87,
   "id": "30d5a9c7",
   "metadata": {},
   "outputs": [
    {
     "data": {
      "text/plain": [
       "array([[ 0.15447154, -0.1300813 ,  0.04065041],\n",
       "       [ 0.10569106,  0.01626016, -0.1300813 ],\n",
       "       [ 0.03252033,  0.23577236,  0.11382114]])"
      ]
     },
     "execution_count": 87,
     "metadata": {},
     "output_type": "execute_result"
    }
   ],
   "source": [
    "np.linalg.inv(M)"
   ]
  },
  {
   "cell_type": "code",
   "execution_count": 88,
   "id": "faa0e3f9",
   "metadata": {},
   "outputs": [
    {
     "name": "stdout",
     "output_type": "stream",
     "text": [
      "[ 5.  3. -2.]\n"
     ]
    }
   ],
   "source": [
    "print(np.linalg.inv(M).dot(K))"
   ]
  },
  {
   "cell_type": "code",
   "execution_count": 89,
   "id": "a7bf81d4",
   "metadata": {},
   "outputs": [
    {
     "name": "stdout",
     "output_type": "stream",
     "text": [
      "[ 5.  3. -2.]\n"
     ]
    }
   ],
   "source": [
    "print(np.linalg.solve(M, K))"
   ]
  },
  {
   "cell_type": "markdown",
   "id": "1939bbe8",
   "metadata": {},
   "source": [
    "**NumPy exercises with Solutions**"
   ]
  },
  {
   "cell_type": "markdown",
   "id": "ac353883",
   "metadata": {},
   "source": [
    "##### 1. Create an array of 10 zeros "
   ]
  },
  {
   "cell_type": "code",
   "execution_count": 90,
   "id": "c925b141",
   "metadata": {},
   "outputs": [
    {
     "name": "stdout",
     "output_type": "stream",
     "text": [
      "[0. 0. 0. 0. 0. 0. 0. 0. 0. 0.]\n"
     ]
    }
   ],
   "source": [
    "print(np.zeros(10))"
   ]
  },
  {
   "cell_type": "markdown",
   "id": "756a30f8",
   "metadata": {},
   "source": [
    "##### 2. Create an array of 10 ones"
   ]
  },
  {
   "cell_type": "code",
   "execution_count": 91,
   "id": "fda02aa7",
   "metadata": {},
   "outputs": [
    {
     "name": "stdout",
     "output_type": "stream",
     "text": [
      "[1. 1. 1. 1. 1. 1. 1. 1. 1. 1.]\n"
     ]
    }
   ],
   "source": [
    "print(np.ones(10))"
   ]
  },
  {
   "cell_type": "markdown",
   "id": "11968318",
   "metadata": {},
   "source": [
    "##### 3. Create an array of 10 fives"
   ]
  },
  {
   "cell_type": "code",
   "execution_count": 92,
   "id": "a7905420",
   "metadata": {},
   "outputs": [
    {
     "name": "stdout",
     "output_type": "stream",
     "text": [
      "[5. 5. 5. 5. 5. 5. 5. 5. 5. 5.]\n"
     ]
    }
   ],
   "source": [
    "print(np.ones(10) * 5)"
   ]
  },
  {
   "cell_type": "markdown",
   "id": "be06321d",
   "metadata": {},
   "source": [
    "##### 4. Create an array of the integers from 10 to 50"
   ]
  },
  {
   "cell_type": "code",
   "execution_count": 93,
   "id": "9d5433e9",
   "metadata": {},
   "outputs": [
    {
     "name": "stdout",
     "output_type": "stream",
     "text": [
      "[10 11 12 13 14 15 16 17 18 19 20 21 22 23 24 25 26 27 28 29 30 31 32 33\n",
      " 34 35 36 37 38 39 40 41 42 43 44 45 46 47 48 49 50]\n"
     ]
    }
   ],
   "source": [
    "print(np.arange(10,51))"
   ]
  },
  {
   "cell_type": "markdown",
   "id": "3e278d58",
   "metadata": {},
   "source": [
    "##### 5. Create an array of all the even integers from 10 to 50"
   ]
  },
  {
   "cell_type": "code",
   "execution_count": 94,
   "id": "465367fc",
   "metadata": {},
   "outputs": [
    {
     "name": "stdout",
     "output_type": "stream",
     "text": [
      "[10 12 14 16 18 20 22 24 26 28 30 32 34 36 38 40 42 44 46 48 50]\n"
     ]
    }
   ],
   "source": [
    "print(np.arange(10,51,2))"
   ]
  },
  {
   "cell_type": "markdown",
   "id": "909b85b4",
   "metadata": {},
   "source": [
    "##### 6. Create a 3x3 matrix with values ranging from 0 to 8"
   ]
  },
  {
   "cell_type": "code",
   "execution_count": 95,
   "id": "457a210c",
   "metadata": {},
   "outputs": [
    {
     "name": "stdout",
     "output_type": "stream",
     "text": [
      "[[0 1 2]\n",
      " [3 4 5]\n",
      " [6 7 8]]\n"
     ]
    }
   ],
   "source": [
    "print(np.arange(9).reshape(3,3))"
   ]
  },
  {
   "cell_type": "markdown",
   "id": "c7d3da69",
   "metadata": {},
   "source": [
    "##### 7. Create a 3x3 identity matrix"
   ]
  },
  {
   "cell_type": "code",
   "execution_count": 96,
   "id": "c82df897",
   "metadata": {},
   "outputs": [
    {
     "name": "stdout",
     "output_type": "stream",
     "text": [
      "[[1. 0. 0.]\n",
      " [0. 1. 0.]\n",
      " [0. 0. 1.]]\n"
     ]
    }
   ],
   "source": [
    "print(np.eye(3))"
   ]
  },
  {
   "cell_type": "markdown",
   "id": "640cddf9",
   "metadata": {},
   "source": [
    "##### 8. Use NumPy to generate a random number between 0 and 1"
   ]
  },
  {
   "cell_type": "code",
   "execution_count": 97,
   "id": "818386ad",
   "metadata": {},
   "outputs": [
    {
     "name": "stdout",
     "output_type": "stream",
     "text": [
      "[0.58803524]\n"
     ]
    }
   ],
   "source": [
    "print(np.random.rand(1))"
   ]
  },
  {
   "cell_type": "markdown",
   "id": "aff78d69",
   "metadata": {},
   "source": [
    "##### 9. Use NumPy to generate an array of 25 random numbers sampled from a standard normal distribution"
   ]
  },
  {
   "cell_type": "code",
   "execution_count": 98,
   "id": "38e900c9",
   "metadata": {},
   "outputs": [
    {
     "name": "stdout",
     "output_type": "stream",
     "text": [
      "[ 0.05127451 -0.61884207  0.7320836  -0.12476619 -0.32646446 -0.04572478\n",
      " -1.0960337   0.72093775 -1.18122167 -1.1469036  -2.33535066 -0.70529665\n",
      " -0.20405907  0.1834426   0.1325453  -0.93263052 -0.68750684 -0.93165746\n",
      " -0.53371888  1.61918366 -1.24955048  0.02520698  2.10861868 -0.32505309\n",
      "  0.5317562 ]\n"
     ]
    }
   ],
   "source": [
    "print(np.random.randn(25))"
   ]
  },
  {
   "cell_type": "markdown",
   "id": "e51a53cd",
   "metadata": {},
   "source": [
    "##### 10. Create the following matrix:"
   ]
  },
  {
   "cell_type": "code",
   "execution_count": 99,
   "id": "1c38e48d",
   "metadata": {},
   "outputs": [
    {
     "name": "stdout",
     "output_type": "stream",
     "text": [
      "[[0.01 0.02 0.03 0.04 0.05 0.06 0.07 0.08 0.09 0.1 ]\n",
      " [0.11 0.12 0.13 0.14 0.15 0.16 0.17 0.18 0.19 0.2 ]\n",
      " [0.21 0.22 0.23 0.24 0.25 0.26 0.27 0.28 0.29 0.3 ]\n",
      " [0.31 0.32 0.33 0.34 0.35 0.36 0.37 0.38 0.39 0.4 ]\n",
      " [0.41 0.42 0.43 0.44 0.45 0.46 0.47 0.48 0.49 0.5 ]\n",
      " [0.51 0.52 0.53 0.54 0.55 0.56 0.57 0.58 0.59 0.6 ]\n",
      " [0.61 0.62 0.63 0.64 0.65 0.66 0.67 0.68 0.69 0.7 ]\n",
      " [0.71 0.72 0.73 0.74 0.75 0.76 0.77 0.78 0.79 0.8 ]\n",
      " [0.81 0.82 0.83 0.84 0.85 0.86 0.87 0.88 0.89 0.9 ]\n",
      " [0.91 0.92 0.93 0.94 0.95 0.96 0.97 0.98 0.99 1.  ]]\n"
     ]
    }
   ],
   "source": [
    "print(np.arange(1,101).reshape(10,10) / 100)"
   ]
  },
  {
   "cell_type": "markdown",
   "id": "90f38b64",
   "metadata": {},
   "source": [
    "##### 11. Create an array of 20 linearly spaced points between 0 and 1:"
   ]
  },
  {
   "cell_type": "code",
   "execution_count": 100,
   "id": "c2476ee1",
   "metadata": {},
   "outputs": [
    {
     "name": "stdout",
     "output_type": "stream",
     "text": [
      "[0.         0.05263158 0.10526316 0.15789474 0.21052632 0.26315789\n",
      " 0.31578947 0.36842105 0.42105263 0.47368421 0.52631579 0.57894737\n",
      " 0.63157895 0.68421053 0.73684211 0.78947368 0.84210526 0.89473684\n",
      " 0.94736842 1.        ]\n"
     ]
    }
   ],
   "source": [
    "print(np.linspace(0,1,20))"
   ]
  },
  {
   "cell_type": "code",
   "execution_count": 101,
   "id": "6602ef02",
   "metadata": {},
   "outputs": [
    {
     "name": "stdout",
     "output_type": "stream",
     "text": [
      "[[ 1  2  3  4  5]\n",
      " [ 6  7  8  9 10]\n",
      " [11 12 13 14 15]\n",
      " [16 17 18 19 20]\n",
      " [21 22 23 24 25]]\n"
     ]
    }
   ],
   "source": [
    "mat = np.arange(1,26).reshape(5,5)\n",
    "print(mat)"
   ]
  },
  {
   "cell_type": "markdown",
   "id": "1a8a6608",
   "metadata": {},
   "source": [
    "##### 12. Get the sum of all the values in mat"
   ]
  },
  {
   "cell_type": "code",
   "execution_count": 102,
   "id": "4b6c11f1",
   "metadata": {},
   "outputs": [
    {
     "name": "stdout",
     "output_type": "stream",
     "text": [
      "325\n"
     ]
    }
   ],
   "source": [
    "print(mat.sum())"
   ]
  },
  {
   "cell_type": "markdown",
   "id": "b625893c",
   "metadata": {},
   "source": [
    "##### 13. Get the standard deviation of the values in mat"
   ]
  },
  {
   "cell_type": "code",
   "execution_count": 103,
   "id": "cb153de7",
   "metadata": {},
   "outputs": [
    {
     "name": "stdout",
     "output_type": "stream",
     "text": [
      "7.211102550927978\n"
     ]
    }
   ],
   "source": [
    "print(mat.std())"
   ]
  },
  {
   "cell_type": "markdown",
   "id": "da7f398f",
   "metadata": {},
   "source": [
    "##### 14. Get the sum of all the columns in mat"
   ]
  },
  {
   "cell_type": "code",
   "execution_count": 104,
   "id": "06a1dd96",
   "metadata": {},
   "outputs": [
    {
     "name": "stdout",
     "output_type": "stream",
     "text": [
      "[55 60 65 70 75]\n"
     ]
    }
   ],
   "source": [
    "print(mat.sum(axis=0))"
   ]
  },
  {
   "cell_type": "markdown",
   "id": "344680b3",
   "metadata": {},
   "source": [
    "##### 15. How to reshape an array?"
   ]
  },
  {
   "cell_type": "code",
   "execution_count": 105,
   "id": "ff4f2280",
   "metadata": {},
   "outputs": [
    {
     "name": "stdout",
     "output_type": "stream",
     "text": [
      "[0 1 2 3 4 5 6 7 8 9]\n",
      "[[0 1 2 3 4]\n",
      " [5 6 7 8 9]]\n"
     ]
    }
   ],
   "source": [
    "arr = np.arange(10)\n",
    "\n",
    "print(arr)\n",
    "\n",
    "arr=arr.reshape(2,5)\n",
    "\n",
    "print(arr)"
   ]
  },
  {
   "cell_type": "markdown",
   "id": "d00286d7",
   "metadata": {},
   "source": [
    "##### 16. How to stack two arrays vertically?"
   ]
  },
  {
   "cell_type": "code",
   "execution_count": 106,
   "id": "ff5c4662",
   "metadata": {},
   "outputs": [
    {
     "name": "stdout",
     "output_type": "stream",
     "text": [
      "[[0 1 2 3 4]\n",
      " [5 6 7 8 9]]\n",
      "[[1 1 1 1 1]\n",
      " [1 1 1 1 1]]\n",
      "[[0 1 2 3 4]\n",
      " [5 6 7 8 9]\n",
      " [1 1 1 1 1]\n",
      " [1 1 1 1 1]]\n"
     ]
    }
   ],
   "source": [
    "a = np.arange(10).reshape(2,-1)\n",
    "\n",
    "print(a)\n",
    "\n",
    "b = np.repeat(1, 10).reshape(2,-1)\n",
    "\n",
    "print(b)\n",
    "\n",
    "res=np.vstack([a,b])\n",
    "\n",
    "print(res)"
   ]
  },
  {
   "cell_type": "markdown",
   "id": "ca985cd8",
   "metadata": {},
   "source": [
    "##### 17. How to stack two arrays horizontally?"
   ]
  },
  {
   "cell_type": "code",
   "execution_count": 107,
   "id": "acca8fa9",
   "metadata": {},
   "outputs": [
    {
     "name": "stdout",
     "output_type": "stream",
     "text": [
      "[[0 1 2 3 4]\n",
      " [5 6 7 8 9]]\n",
      "[[1 1 1 1 1]\n",
      " [1 1 1 1 1]]\n",
      "[[0 1 2 3 4 1 1 1 1 1]\n",
      " [5 6 7 8 9 1 1 1 1 1]]\n"
     ]
    }
   ],
   "source": [
    "a = np.arange(10).reshape(2,-1)\n",
    "\n",
    "print(a)\n",
    "\n",
    "b = np.repeat(1, 10).reshape(2,-1)\n",
    "\n",
    "print(b)\n",
    "\n",
    "print(np.hstack([a,b]))"
   ]
  },
  {
   "cell_type": "markdown",
   "id": "423d65b4",
   "metadata": {},
   "source": [
    "##### 18. How to get the positions where elements of two arrays match?"
   ]
  },
  {
   "cell_type": "code",
   "execution_count": 108,
   "id": "6654add0",
   "metadata": {},
   "outputs": [
    {
     "name": "stdout",
     "output_type": "stream",
     "text": [
      "(array([0, 6, 7], dtype=int64),)\n"
     ]
    }
   ],
   "source": [
    "a = np.array([12, 3, 27, 9, 97, 98, 10, 8])\n",
    "\n",
    "b = np.array([12, 18, 28, 5, 3, 19, 10, 8])\n",
    "\n",
    "print(np.where(a == b))"
   ]
  },
  {
   "cell_type": "markdown",
   "id": "cdfcff8a",
   "metadata": {},
   "source": [
    "##### 19. Import the iris dataset keeping the text intact"
   ]
  },
  {
   "cell_type": "code",
   "execution_count": 109,
   "id": "fbe2ac36",
   "metadata": {},
   "outputs": [],
   "source": [
    "iris_data=np.genfromtxt(r'datasets\\Iris.csv',\n",
    "                        delimiter=',', skip_header=1, dtype = object)"
   ]
  },
  {
   "cell_type": "code",
   "execution_count": 110,
   "id": "b19866aa",
   "metadata": {},
   "outputs": [
    {
     "data": {
      "text/plain": [
       "array([[b'1', b'5.1', b'3.5', b'1.4', b'0.2', b'Iris-setosa'],\n",
       "       [b'2', b'4.9', b'3.0', b'1.4', b'0.2', b'Iris-setosa'],\n",
       "       [b'3', b'4.7', b'3.2', b'1.3', b'0.2', b'Iris-setosa'],\n",
       "       [b'4', b'4.6', b'3.1', b'1.5', b'0.2', b'Iris-setosa'],\n",
       "       [b'5', b'5.0', b'3.6', b'1.4', b'0.2', b'Iris-setosa']],\n",
       "      dtype=object)"
      ]
     },
     "execution_count": 110,
     "metadata": {},
     "output_type": "execute_result"
    }
   ],
   "source": [
    "iris_data[:5, :]"
   ]
  },
  {
   "cell_type": "markdown",
   "id": "5b24c001",
   "metadata": {},
   "source": [
    "##### 20. Find the mean, median, standard deviation of iris's sepallength (1st column)"
   ]
  },
  {
   "cell_type": "code",
   "execution_count": 111,
   "id": "d1af2c3c",
   "metadata": {},
   "outputs": [
    {
     "name": "stdout",
     "output_type": "stream",
     "text": [
      "[5.1 4.9 4.7 4.6 5. ]\n"
     ]
    }
   ],
   "source": [
    "col_1=iris_data[:, 1].astype(float)\n",
    "\n",
    "print(col_1[:5])"
   ]
  },
  {
   "cell_type": "code",
   "execution_count": 112,
   "id": "94dafa47",
   "metadata": {},
   "outputs": [
    {
     "name": "stdout",
     "output_type": "stream",
     "text": [
      "Mean 5.843333333333334\n",
      "Median 5.8\n",
      "Standard Deviation 0.8253012917851409\n"
     ]
    }
   ],
   "source": [
    "print('Mean', np.mean(col_1))\n",
    "print('Median', np.median(col_1))\n",
    "print('Standard Deviation', np.std(col_1))"
   ]
  }
 ],
 "metadata": {
  "kernelspec": {
   "display_name": "Python 3 (ipykernel)",
   "language": "python",
   "name": "python3"
  },
  "language_info": {
   "codemirror_mode": {
    "name": "ipython",
    "version": 3
   },
   "file_extension": ".py",
   "mimetype": "text/x-python",
   "name": "python",
   "nbconvert_exporter": "python",
   "pygments_lexer": "ipython3",
   "version": "3.11.5"
  }
 },
 "nbformat": 4,
 "nbformat_minor": 5
}
